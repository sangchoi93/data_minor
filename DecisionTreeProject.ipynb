{
  "nbformat": 4,
  "nbformat_minor": 0,
  "metadata": {
    "colab": {
      "name": "DecisionTreeProject.ipynb",
      "provenance": [],
      "authorship_tag": "ABX9TyOagMu8Di1YADwLxCJq24dV",
      "include_colab_link": true
    },
    "kernelspec": {
      "name": "python3",
      "display_name": "Python 3"
    }
  },
  "cells": [
    {
      "cell_type": "markdown",
      "metadata": {
        "id": "view-in-github",
        "colab_type": "text"
      },
      "source": [
        "<a href=\"https://colab.research.google.com/github/jrCruz82/data_minor/blob/Dtree/DecisionTreeProject.ipynb\" target=\"_parent\"><img src=\"https://colab.research.google.com/assets/colab-badge.svg\" alt=\"Open In Colab\"/></a>"
      ]
    },
    {
      "cell_type": "code",
      "metadata": {
        "id": "16KqiOzRkhyF"
      },
      "source": [
        "import numpy as np\n",
        "import pandas as pd\n",
        "from sklearn.tree import DecisionTreeClassifier\n",
        "from sklearn.metrics import accuracy_score\n",
        "from sklearn.model_selection import train_test_split\n",
        "from sklearn import preprocessing\n",
        "import matplotlib.pyplot as plt\n",
        "from sklearn.model_selection import KFold, cross_val_score\n",
        "from sklearn.model_selection import GridSearchCV\n",
        "import math\n"
      ],
      "execution_count": 302,
      "outputs": []
    },
    {
      "cell_type": "code",
      "metadata": {
        "colab": {
          "base_uri": "https://localhost:8080/"
        },
        "id": "NoW3nCDNk4f6",
        "outputId": "dc69366f-cdd5-4dd0-af5a-fc6d70508c69"
      },
      "source": [
        "df=pd.read_csv('heart_failure_clinical_records_dataset.csv')\n",
        "df['DEATH_EVENT'].value_counts()"
      ],
      "execution_count": 303,
      "outputs": [
        {
          "output_type": "execute_result",
          "data": {
            "text/plain": [
              "0    203\n",
              "1     96\n",
              "Name: DEATH_EVENT, dtype: int64"
            ]
          },
          "metadata": {
            "tags": []
          },
          "execution_count": 303
        }
      ]
    },
    {
      "cell_type": "code",
      "metadata": {
        "colab": {
          "base_uri": "https://localhost:8080/",
          "height": 304
        },
        "id": "bVtQEAu7lJsx",
        "outputId": "3e52a1d6-d4a6-4d78-a7c2-2c11c0ff5e5e"
      },
      "source": [
        "df.describe()"
      ],
      "execution_count": 304,
      "outputs": [
        {
          "output_type": "execute_result",
          "data": {
            "text/html": [
              "<div>\n",
              "<style scoped>\n",
              "    .dataframe tbody tr th:only-of-type {\n",
              "        vertical-align: middle;\n",
              "    }\n",
              "\n",
              "    .dataframe tbody tr th {\n",
              "        vertical-align: top;\n",
              "    }\n",
              "\n",
              "    .dataframe thead th {\n",
              "        text-align: right;\n",
              "    }\n",
              "</style>\n",
              "<table border=\"1\" class=\"dataframe\">\n",
              "  <thead>\n",
              "    <tr style=\"text-align: right;\">\n",
              "      <th></th>\n",
              "      <th>age</th>\n",
              "      <th>anaemia</th>\n",
              "      <th>creatinine_phosphokinase</th>\n",
              "      <th>diabetes</th>\n",
              "      <th>ejection_fraction</th>\n",
              "      <th>high_blood_pressure</th>\n",
              "      <th>platelets</th>\n",
              "      <th>serum_creatinine</th>\n",
              "      <th>serum_sodium</th>\n",
              "      <th>sex</th>\n",
              "      <th>smoking</th>\n",
              "      <th>time</th>\n",
              "      <th>DEATH_EVENT</th>\n",
              "    </tr>\n",
              "  </thead>\n",
              "  <tbody>\n",
              "    <tr>\n",
              "      <th>count</th>\n",
              "      <td>299.000000</td>\n",
              "      <td>299.000000</td>\n",
              "      <td>299.000000</td>\n",
              "      <td>299.000000</td>\n",
              "      <td>299.000000</td>\n",
              "      <td>299.000000</td>\n",
              "      <td>299.000000</td>\n",
              "      <td>299.00000</td>\n",
              "      <td>299.000000</td>\n",
              "      <td>299.000000</td>\n",
              "      <td>299.00000</td>\n",
              "      <td>299.000000</td>\n",
              "      <td>299.00000</td>\n",
              "    </tr>\n",
              "    <tr>\n",
              "      <th>mean</th>\n",
              "      <td>60.833893</td>\n",
              "      <td>0.431438</td>\n",
              "      <td>581.839465</td>\n",
              "      <td>0.418060</td>\n",
              "      <td>38.083612</td>\n",
              "      <td>0.351171</td>\n",
              "      <td>263358.029264</td>\n",
              "      <td>1.39388</td>\n",
              "      <td>136.625418</td>\n",
              "      <td>0.648829</td>\n",
              "      <td>0.32107</td>\n",
              "      <td>130.260870</td>\n",
              "      <td>0.32107</td>\n",
              "    </tr>\n",
              "    <tr>\n",
              "      <th>std</th>\n",
              "      <td>11.894809</td>\n",
              "      <td>0.496107</td>\n",
              "      <td>970.287881</td>\n",
              "      <td>0.494067</td>\n",
              "      <td>11.834841</td>\n",
              "      <td>0.478136</td>\n",
              "      <td>97804.236869</td>\n",
              "      <td>1.03451</td>\n",
              "      <td>4.412477</td>\n",
              "      <td>0.478136</td>\n",
              "      <td>0.46767</td>\n",
              "      <td>77.614208</td>\n",
              "      <td>0.46767</td>\n",
              "    </tr>\n",
              "    <tr>\n",
              "      <th>min</th>\n",
              "      <td>40.000000</td>\n",
              "      <td>0.000000</td>\n",
              "      <td>23.000000</td>\n",
              "      <td>0.000000</td>\n",
              "      <td>14.000000</td>\n",
              "      <td>0.000000</td>\n",
              "      <td>25100.000000</td>\n",
              "      <td>0.50000</td>\n",
              "      <td>113.000000</td>\n",
              "      <td>0.000000</td>\n",
              "      <td>0.00000</td>\n",
              "      <td>4.000000</td>\n",
              "      <td>0.00000</td>\n",
              "    </tr>\n",
              "    <tr>\n",
              "      <th>25%</th>\n",
              "      <td>51.000000</td>\n",
              "      <td>0.000000</td>\n",
              "      <td>116.500000</td>\n",
              "      <td>0.000000</td>\n",
              "      <td>30.000000</td>\n",
              "      <td>0.000000</td>\n",
              "      <td>212500.000000</td>\n",
              "      <td>0.90000</td>\n",
              "      <td>134.000000</td>\n",
              "      <td>0.000000</td>\n",
              "      <td>0.00000</td>\n",
              "      <td>73.000000</td>\n",
              "      <td>0.00000</td>\n",
              "    </tr>\n",
              "    <tr>\n",
              "      <th>50%</th>\n",
              "      <td>60.000000</td>\n",
              "      <td>0.000000</td>\n",
              "      <td>250.000000</td>\n",
              "      <td>0.000000</td>\n",
              "      <td>38.000000</td>\n",
              "      <td>0.000000</td>\n",
              "      <td>262000.000000</td>\n",
              "      <td>1.10000</td>\n",
              "      <td>137.000000</td>\n",
              "      <td>1.000000</td>\n",
              "      <td>0.00000</td>\n",
              "      <td>115.000000</td>\n",
              "      <td>0.00000</td>\n",
              "    </tr>\n",
              "    <tr>\n",
              "      <th>75%</th>\n",
              "      <td>70.000000</td>\n",
              "      <td>1.000000</td>\n",
              "      <td>582.000000</td>\n",
              "      <td>1.000000</td>\n",
              "      <td>45.000000</td>\n",
              "      <td>1.000000</td>\n",
              "      <td>303500.000000</td>\n",
              "      <td>1.40000</td>\n",
              "      <td>140.000000</td>\n",
              "      <td>1.000000</td>\n",
              "      <td>1.00000</td>\n",
              "      <td>203.000000</td>\n",
              "      <td>1.00000</td>\n",
              "    </tr>\n",
              "    <tr>\n",
              "      <th>max</th>\n",
              "      <td>95.000000</td>\n",
              "      <td>1.000000</td>\n",
              "      <td>7861.000000</td>\n",
              "      <td>1.000000</td>\n",
              "      <td>80.000000</td>\n",
              "      <td>1.000000</td>\n",
              "      <td>850000.000000</td>\n",
              "      <td>9.40000</td>\n",
              "      <td>148.000000</td>\n",
              "      <td>1.000000</td>\n",
              "      <td>1.00000</td>\n",
              "      <td>285.000000</td>\n",
              "      <td>1.00000</td>\n",
              "    </tr>\n",
              "  </tbody>\n",
              "</table>\n",
              "</div>"
            ],
            "text/plain": [
              "              age     anaemia  ...        time  DEATH_EVENT\n",
              "count  299.000000  299.000000  ...  299.000000    299.00000\n",
              "mean    60.833893    0.431438  ...  130.260870      0.32107\n",
              "std     11.894809    0.496107  ...   77.614208      0.46767\n",
              "min     40.000000    0.000000  ...    4.000000      0.00000\n",
              "25%     51.000000    0.000000  ...   73.000000      0.00000\n",
              "50%     60.000000    0.000000  ...  115.000000      0.00000\n",
              "75%     70.000000    1.000000  ...  203.000000      1.00000\n",
              "max     95.000000    1.000000  ...  285.000000      1.00000\n",
              "\n",
              "[8 rows x 13 columns]"
            ]
          },
          "metadata": {
            "tags": []
          },
          "execution_count": 304
        }
      ]
    },
    {
      "cell_type": "code",
      "metadata": {
        "id": "HSQqpD1VMaej"
      },
      "source": [
        ""
      ],
      "execution_count": 304,
      "outputs": []
    },
    {
      "cell_type": "code",
      "metadata": {
        "id": "QwaWYfrOlNKy"
      },
      "source": [
        "X = df[['age', 'anaemia', 'creatinine_phosphokinase', 'diabetes',\n",
        "       'ejection_fraction', 'high_blood_pressure', 'platelets',\n",
        "       'serum_creatinine', 'serum_sodium', 'sex', 'smoking', 'time']].values\n"
      ],
      "execution_count": 305,
      "outputs": []
    },
    {
      "cell_type": "code",
      "metadata": {
        "id": "P-53KmEmlQdg"
      },
      "source": [
        "y = df['DEATH_EVENT'].values\n"
      ],
      "execution_count": 306,
      "outputs": []
    },
    {
      "cell_type": "code",
      "metadata": {
        "id": "GkRxqWASlUHw"
      },
      "source": [
        "\n"
      ],
      "execution_count": 306,
      "outputs": []
    },
    {
      "cell_type": "code",
      "metadata": {
        "id": "IR6RqfuVpsfI"
      },
      "source": [
        "def check_purity(data):\n",
        "    label_column = data[:,-1]\n",
        "    unique_classes = np.unique(label_column)\n",
        "\n",
        "    if len(unique_classes) == 1:\n",
        "        return True\n",
        "    else:\n",
        "        return False\n",
        "\n",
        "def classify_data(data):\n",
        "    label_column = data[:,-1]\n",
        "    unique_classes, counts_unique_classes = np.unique(label_column, return_counts=True)\n",
        "\n",
        "    index = counts_unique_classes.argmax()\n",
        "    classification = unique_classes[index]\n",
        "    return classification\n",
        "\n",
        "def get_potential_splits(data):\n",
        "    potential_splits = {}\n",
        "    _, n_columns = data.shape\n",
        "    \n",
        "    for column_index in range(n_columns - 1):\n",
        "        potential_splits[column_index] = []\n",
        "        values = data[:, column_index]\n",
        "        unique_values = np.unique(values)\n",
        "        #potential_splits[column_index] = unique_values\n",
        "        for index in range(len(unique_values)):\n",
        "            if index != 0:\n",
        "                current_value = unique_values[index]\n",
        "                previous_value = unique_values[index - 1]\n",
        "                potential_split = (current_value + previous_value) / 2\n",
        "                \n",
        "                potential_splits[column_index].append(potential_split)        \n",
        "    return potential_splits\n",
        "\n",
        "def split_data(data, split_column, split_value):\n",
        "    \n",
        "    split_column_values = data[:,split_column]\n",
        "    \n",
        "    data_below = data[split_column_values <= split_value]\n",
        "    data_above = data[split_column_values > split_value]\n",
        "\n",
        "    return data_below, data_above\n",
        "\n",
        "def calculate_entropy(data):\n",
        "    label_column = data[:,-1]\n",
        "    _, counts = np.unique(label_column, return_counts=True)\n",
        "\n",
        "    probabilities = counts / counts.sum()\n",
        "    entropy = sum(probabilities * -np.log2(probabilities))\n",
        "    return entropy\n",
        "\n",
        "def calculate_overall_entropy(data_below, data_above):\n",
        "    n_data_points = len(data_below) + len(data_above)\n",
        "    p_data_below = len(data_below) / n_data_points\n",
        "    p_data_above = len(data_above) / n_data_points\n",
        "\n",
        "    overall_entropy = (p_data_below * calculate_entropy(data_below)) + (p_data_above * calculate_entropy(data_above))\n",
        "\n",
        "    return overall_entropy\n",
        "\n",
        "def determine_best_split(data, potential_splits):\n",
        "    overall_entropy = 9999\n",
        "    for column_index in potential_splits:\n",
        "        for value in potential_splits[column_index]:\n",
        "            data_below, data_above = split_data(data, split_column=column_index, split_value=value)\n",
        "            current_overall_entropy = calculate_overall_entropy(data_below,data_above)\n",
        "\n",
        "            if current_overall_entropy <= overall_entropy:\n",
        "                overall_entropy = current_overall_entropy\n",
        "                best_split_column = column_index\n",
        "                best_split_value = value\n",
        "    return best_split_column, best_split_value\n",
        "\n",
        "def decision_tree_algorithm(df, counter=0, min_samples = 2, max_depth=10):\n",
        "\n",
        "    if counter == 0:\n",
        "        global COLUMN_HEADERS\n",
        "        COLUMN_HEADERS = df.columns\n",
        "        data = df.values\n",
        "    else:\n",
        "        data = df\n",
        "\n",
        "    if (check_purity(data)) or (len(data) < min_samples) or (counter == max_depth):\n",
        "        classification = classify_data(data)\n",
        "        return classification\n",
        "    else:\n",
        "        counter +=1\n",
        "        \n",
        "        potential_splits = get_potential_splits(data)\n",
        "        split_column, split_value = determine_best_split(data, potential_splits)\n",
        "        data_below, data_above = split_data(data, split_column, split_value)\n",
        "\n",
        "        feature_name = COLUMN_HEADERS[split_column]\n",
        "        question = '{} <= {}'.format(feature_name, split_value)\n",
        "        sub_tree = {question:[]}\n",
        "\n",
        "        yes_answer = decision_tree_algorithm(data_below, counter,min_samples,max_depth)\n",
        "        no_answer = decision_tree_algorithm(data_above, counter,min_samples,max_depth)\n",
        "\n",
        "        if yes_answer == no_answer:\n",
        "            sub_tree = yes_answer\n",
        "        else:\n",
        "            sub_tree[question].append(yes_answer)\n",
        "            sub_tree[question].append(no_answer)\n",
        "\n",
        "        return sub_tree        \n",
        "\n",
        "def predict_example(example, tree):\n",
        "    \n",
        "    # tree is just a root node\n",
        "    if not isinstance(tree, dict):\n",
        "        return tree\n",
        "    \n",
        "    question = list(tree.keys())[0]\n",
        "    feature_name, comparison_operator, value = question.split(\" \")\n",
        "\n",
        "    # ask question\n",
        "    if comparison_operator == \"<=\":\n",
        "        if example[feature_name] <= float(value):\n",
        "            answer = tree[question][0]\n",
        "        else:\n",
        "            answer = tree[question][1]\n",
        "    \n",
        "    # feature is categorical\n",
        "    else:\n",
        "        if str(example[feature_name]) == value:\n",
        "            answer = tree[question][0]\n",
        "        else:\n",
        "            answer = tree[question][1]\n",
        "\n",
        "    # base case\n",
        "    if not isinstance(answer, dict):\n",
        "        return answer\n",
        "    \n",
        "    # recursive part\n",
        "    else:\n",
        "        residual_tree = answer\n",
        "        return predict_example(example, residual_tree)\n",
        "\n",
        "def make_predictions(df, tree):\n",
        "    \n",
        "    if len(df) != 0:\n",
        "        predictions = df.apply(predict_example, args=(tree,), axis=1)\n",
        "    else:\n",
        "        # \"df.apply()\"\" with empty dataframe returns an empty dataframe,\n",
        "        # but \"predictions\" should be a series instead\n",
        "        predictions = pd.Series()\n",
        "        \n",
        "    return predictions\n",
        "\n",
        "def calculate_accuracy(df, tree):\n",
        "    predictions = make_predictions(df, tree)\n",
        "    predictions_correct = predictions == df.DEATH_EVENT\n",
        "    accuracy = predictions_correct.mean()\n",
        "    \n",
        "    return accuracy"
      ],
      "execution_count": 307,
      "outputs": []
    },
    {
      "cell_type": "code",
      "metadata": {
        "id": "-k8L0QnD-knK"
      },
      "source": [
        "\n"
      ],
      "execution_count": 307,
      "outputs": []
    },
    {
      "cell_type": "code",
      "metadata": {
        "id": "wgB4kW-I0oe2"
      },
      "source": [
        ""
      ],
      "execution_count": 307,
      "outputs": []
    },
    {
      "cell_type": "code",
      "metadata": {
        "id": "DXVf2BUWyXr1",
        "colab": {
          "base_uri": "https://localhost:8080/"
        },
        "outputId": "ac8f1533-3b33-4efb-92b6-90c05b157115"
      },
      "source": [
        "kfold = KFold(n_splits=10)\n",
        "X_train, X_test, y_train, y_test = train_test_split(X, y, test_size=0.25, random_state=0)\n",
        "print('Train set:', X_train.shape, y_train.shape)\n",
        "print('Test set:', X_test.shape, y_test.shape)"
      ],
      "execution_count": 308,
      "outputs": [
        {
          "output_type": "stream",
          "text": [
            "Train set: (224, 12) (224,)\n",
            "Test set: (75, 12) (75,)\n"
          ],
          "name": "stdout"
        }
      ]
    },
    {
      "cell_type": "code",
      "metadata": {
        "id": "jWI5KgHvqZkv",
        "colab": {
          "base_uri": "https://localhost:8080/",
          "height": 343
        },
        "outputId": "53b12f6d-f75d-43c1-ad04-6d08429b75c2"
      },
      "source": [
        "dtc = DecisionTreeClassifier(random_state=0)\n",
        "tree_model = dtc.fit(X_train,y_train)\n",
        "kfold.split(X_train)\n",
        "dtc_accuracy_model = []\n",
        "dtc_model_time = []\n",
        "mydtc_accuracy_model = []\n",
        "mydtc_model_time = []\n",
        "for train_index, test_index in kfold.split(X):\n",
        "    \n",
        "    # Split train-test\n",
        "    X_train, X_test = df.iloc[train_index], df.iloc[test_index]\n",
        "    y_train, y_test = y[train_index], y[test_index]\n",
        "    \n",
        "    start = int(round(time.time() * 1000))\n",
        "    # Train the model\n",
        "    tree_model = dtc.fit(X_train, y_train)\n",
        "    # Append to accuracy_model the accuracy of the model\n",
        "    dtc_accuracy_model.append(accuracy_score(y_test, tree_model.predict(X_test), normalize=True)*100)\n",
        "    time_dtc = int(round(time.time() * 1000)) - start\n",
        "    dtc_model_time.append(time_dtc)\n",
        "\n",
        "    \n",
        "    #X_train = np.insert(X_train,-1,y_train,axis=1)\n",
        "    #X_train = pd.DataFrame(X_train)\n",
        "    X_train.columns = df.columns\n",
        "    start = int(round(time.time() * 1000))\n",
        "    tree = decision_tree_algorithm(X_train)\n",
        "    \n",
        "    mydtc_accuracy_model.append(calculate_accuracy(X_test,tree)*100)\n",
        "    time_mydtc = int(round(time.time() * 1000)) - start\n",
        "    mydtc_model_time.append(time_mydtc)\n",
        "\n",
        "    diff = [(i / j)*100 for i, j in zip(mydtc_model_time,dtc_model_time)] \n",
        "results_df = pd.DataFrame()\n",
        "results_df['dtc_accuracy_model'] = dtc_accuracy_model\n",
        "results_df['dtc_model_time'] = dtc_model_time\n",
        "results_df['mydtc_accuracy_model'] = mydtc_accuracy_model\n",
        "results_df['mydtc_model_time'] = mydtc_model_time\n",
        "results_df['%diff'] = diff\n",
        "results_df"
      ],
      "execution_count": 309,
      "outputs": [
        {
          "output_type": "execute_result",
          "data": {
            "text/html": [
              "<div>\n",
              "<style scoped>\n",
              "    .dataframe tbody tr th:only-of-type {\n",
              "        vertical-align: middle;\n",
              "    }\n",
              "\n",
              "    .dataframe tbody tr th {\n",
              "        vertical-align: top;\n",
              "    }\n",
              "\n",
              "    .dataframe thead th {\n",
              "        text-align: right;\n",
              "    }\n",
              "</style>\n",
              "<table border=\"1\" class=\"dataframe\">\n",
              "  <thead>\n",
              "    <tr style=\"text-align: right;\">\n",
              "      <th></th>\n",
              "      <th>dtc_accuracy_model</th>\n",
              "      <th>dtc_model_time</th>\n",
              "      <th>mydtc_accuracy_model</th>\n",
              "      <th>mydtc_model_time</th>\n",
              "      <th>%diff</th>\n",
              "    </tr>\n",
              "  </thead>\n",
              "  <tbody>\n",
              "    <tr>\n",
              "      <th>0</th>\n",
              "      <td>100.0</td>\n",
              "      <td>4</td>\n",
              "      <td>80.000000</td>\n",
              "      <td>476</td>\n",
              "      <td>11900.000000</td>\n",
              "    </tr>\n",
              "    <tr>\n",
              "      <th>1</th>\n",
              "      <td>100.0</td>\n",
              "      <td>3</td>\n",
              "      <td>80.000000</td>\n",
              "      <td>421</td>\n",
              "      <td>14033.333333</td>\n",
              "    </tr>\n",
              "    <tr>\n",
              "      <th>2</th>\n",
              "      <td>100.0</td>\n",
              "      <td>2</td>\n",
              "      <td>76.666667</td>\n",
              "      <td>386</td>\n",
              "      <td>19300.000000</td>\n",
              "    </tr>\n",
              "    <tr>\n",
              "      <th>3</th>\n",
              "      <td>100.0</td>\n",
              "      <td>2</td>\n",
              "      <td>73.333333</td>\n",
              "      <td>354</td>\n",
              "      <td>17700.000000</td>\n",
              "    </tr>\n",
              "    <tr>\n",
              "      <th>4</th>\n",
              "      <td>100.0</td>\n",
              "      <td>4</td>\n",
              "      <td>86.666667</td>\n",
              "      <td>364</td>\n",
              "      <td>9100.000000</td>\n",
              "    </tr>\n",
              "    <tr>\n",
              "      <th>5</th>\n",
              "      <td>100.0</td>\n",
              "      <td>3</td>\n",
              "      <td>83.333333</td>\n",
              "      <td>367</td>\n",
              "      <td>12233.333333</td>\n",
              "    </tr>\n",
              "    <tr>\n",
              "      <th>6</th>\n",
              "      <td>100.0</td>\n",
              "      <td>2</td>\n",
              "      <td>70.000000</td>\n",
              "      <td>395</td>\n",
              "      <td>19750.000000</td>\n",
              "    </tr>\n",
              "    <tr>\n",
              "      <th>7</th>\n",
              "      <td>100.0</td>\n",
              "      <td>3</td>\n",
              "      <td>66.666667</td>\n",
              "      <td>375</td>\n",
              "      <td>12500.000000</td>\n",
              "    </tr>\n",
              "    <tr>\n",
              "      <th>8</th>\n",
              "      <td>100.0</td>\n",
              "      <td>2</td>\n",
              "      <td>86.666667</td>\n",
              "      <td>403</td>\n",
              "      <td>20150.000000</td>\n",
              "    </tr>\n",
              "    <tr>\n",
              "      <th>9</th>\n",
              "      <td>100.0</td>\n",
              "      <td>3</td>\n",
              "      <td>82.758621</td>\n",
              "      <td>439</td>\n",
              "      <td>14633.333333</td>\n",
              "    </tr>\n",
              "  </tbody>\n",
              "</table>\n",
              "</div>"
            ],
            "text/plain": [
              "   dtc_accuracy_model  dtc_model_time  ...  mydtc_model_time         %diff\n",
              "0               100.0               4  ...               476  11900.000000\n",
              "1               100.0               3  ...               421  14033.333333\n",
              "2               100.0               2  ...               386  19300.000000\n",
              "3               100.0               2  ...               354  17700.000000\n",
              "4               100.0               4  ...               364   9100.000000\n",
              "5               100.0               3  ...               367  12233.333333\n",
              "6               100.0               2  ...               395  19750.000000\n",
              "7               100.0               3  ...               375  12500.000000\n",
              "8               100.0               2  ...               403  20150.000000\n",
              "9               100.0               3  ...               439  14633.333333\n",
              "\n",
              "[10 rows x 5 columns]"
            ]
          },
          "metadata": {
            "tags": []
          },
          "execution_count": 309
        }
      ]
    },
    {
      "cell_type": "code",
      "metadata": {
        "colab": {
          "base_uri": "https://localhost:8080/"
        },
        "id": "rzjvZdpGXxOa",
        "outputId": "408ed202-7843-4729-a7b2-47a9edfaa4a1"
      },
      "source": [
        "tree"
      ],
      "execution_count": 310,
      "outputs": [
        {
          "output_type": "execute_result",
          "data": {
            "text/plain": [
              "{'time <= 67.5': [{'platelets <= 214500.0': [1.0,\n",
              "    {'platelets <= 224500.0': [{'time <= 57.0': [0.0, 1.0]},\n",
              "      {'age <= 66.5': [{'creatinine_phosphokinase <= 85.5': [0.0,\n",
              "          {'platelets <= 307500.0': [{'time <= 24.5': [1.0,\n",
              "              {'serum_sodium <= 134.5': [1.0,\n",
              "                {'serum_sodium <= 142.5': [0.0, 1.0]}]}]},\n",
              "            1.0]}]},\n",
              "        1.0]}]}]},\n",
              "  {'serum_creatinine <= 1.55': [{'ejection_fraction <= 27.5': [{'time <= 78.5': [1.0,\n",
              "        {'time <= 148.0': [0.0,\n",
              "          {'time <= 178.0': [1.0,\n",
              "            {'time <= 210.5': [0.0,\n",
              "              {'serum_creatinine <= 0.9500000000000001': [0.0, 1.0]}]}]}]}]},\n",
              "      {'age <= 79.0': [{'creatinine_phosphokinase <= 2307.5': [{'serum_creatinine <= 0.6499999999999999': [{'time <= 123.0': [0.0,\n",
              "              1.0]},\n",
              "            {'platelets <= 349500.0': [0.0,\n",
              "              {'serum_creatinine <= 1.2000000000000002': [0.0,\n",
              "                {'serum_sodium <= 137.5': [1.0, 0.0]}]}]}]},\n",
              "          {'diabetes <= 0.5': [0.0, 1.0]}]},\n",
              "        {'platelets <= 239000.0': [{'sex <= 0.5': [1.0, 0.0]}, 1.0]}]}]},\n",
              "    {'ejection_fraction <= 22.5': [1.0,\n",
              "      {'creatinine_phosphokinase <= 72.5': [0.0,\n",
              "        {'high_blood_pressure <= 0.5': [{'platelets <= 226000.0': [{'serum_sodium <= 137.5': [1.0,\n",
              "              {'serum_sodium <= 142.5': [0.0, 1.0]}]},\n",
              "            {'sex <= 0.5': [{'creatinine_phosphokinase <= 454.0': [0.0, 1.0]},\n",
              "              0.0]}]},\n",
              "          1.0]}]}]}]}]}"
            ]
          },
          "metadata": {
            "tags": []
          },
          "execution_count": 310
        }
      ]
    },
    {
      "cell_type": "code",
      "metadata": {
        "id": "lg7xmROYZMAM"
      },
      "source": [
        ""
      ],
      "execution_count": 310,
      "outputs": []
    }
  ]
}