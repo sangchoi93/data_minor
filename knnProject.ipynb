{
  "nbformat": 4,
  "nbformat_minor": 0,
  "metadata": {
    "colab": {
      "name": "knnProject.ipynb",
      "provenance": [],
      "authorship_tag": "ABX9TyMrGpeLUtQFEMibYi/G6cB0",
      "include_colab_link": true
    },
    "kernelspec": {
      "name": "python3",
      "display_name": "Python 3"
    }
  },
  "cells": [
    {
      "cell_type": "markdown",
      "metadata": {
        "id": "view-in-github",
        "colab_type": "text"
      },
      "source": [
        "<a href=\"https://colab.research.google.com/github/sangchoi93/data_minor/blob/knn/knnProject.ipynb\" target=\"_parent\"><img src=\"https://colab.research.google.com/assets/colab-badge.svg\" alt=\"Open In Colab\"/></a>"
      ]
    },
    {
      "cell_type": "code",
      "metadata": {
        "id": "ZWxuOEfODs7i"
      },
      "source": [
        "import numpy as np\n",
        "import pandas as pd\n",
        "from sklearn.neighbors import KNeighborsClassifier \n",
        "from sklearn.metrics import accuracy_score\n",
        "from sklearn.model_selection import train_test_split\n",
        "from sklearn import preprocessing\n",
        "import matplotlib.pyplot as plt\n",
        "import time\n",
        "from sklearn.model_selection import KFold, cross_val_score"
      ],
      "execution_count": 340,
      "outputs": []
    },
    {
      "cell_type": "markdown",
      "metadata": {
        "id": "Wl8RWut4XcLO"
      },
      "source": [
        "**Reading dataset**"
      ]
    },
    {
      "cell_type": "code",
      "metadata": {
        "id": "YR8qKJ2ZxYUr",
        "colab": {
          "base_uri": "https://localhost:8080/"
        },
        "outputId": "1fe7baa2-5407-4ab2-a265-a959f0ce3787"
      },
      "source": [
        "df=pd.read_csv('heart_failure_clinical_records_dataset.csv')\n",
        "df['DEATH_EVENT'].value_counts()"
      ],
      "execution_count": 341,
      "outputs": [
        {
          "output_type": "execute_result",
          "data": {
            "text/plain": [
              "0    203\n",
              "1     96\n",
              "Name: DEATH_EVENT, dtype: int64"
            ]
          },
          "metadata": {
            "tags": []
          },
          "execution_count": 341
        }
      ]
    },
    {
      "cell_type": "code",
      "metadata": {
        "id": "x0HH74B_xkYN",
        "colab": {
          "base_uri": "https://localhost:8080/"
        },
        "outputId": "5b00a9c0-ad28-40e1-b9d0-4ddcac75da88"
      },
      "source": [
        "df.columns"
      ],
      "execution_count": 342,
      "outputs": [
        {
          "output_type": "execute_result",
          "data": {
            "text/plain": [
              "Index(['age', 'anaemia', 'creatinine_phosphokinase', 'diabetes',\n",
              "       'ejection_fraction', 'high_blood_pressure', 'platelets',\n",
              "       'serum_creatinine', 'serum_sodium', 'sex', 'smoking', 'time',\n",
              "       'DEATH_EVENT'],\n",
              "      dtype='object')"
            ]
          },
          "metadata": {
            "tags": []
          },
          "execution_count": 342
        }
      ]
    },
    {
      "cell_type": "markdown",
      "metadata": {
        "id": "Im1p5FtFXl2v"
      },
      "source": [
        "**Selecting features and class**"
      ]
    },
    {
      "cell_type": "code",
      "metadata": {
        "id": "iq-eXp5mzAYb",
        "colab": {
          "base_uri": "https://localhost:8080/"
        },
        "outputId": "b0851fd1-6129-4b5d-8506-30e06ffcfb69"
      },
      "source": [
        "X = df[['age', 'anaemia', 'creatinine_phosphokinase', 'diabetes',\n",
        "       'ejection_fraction', 'high_blood_pressure', 'platelets',\n",
        "       'serum_creatinine', 'serum_sodium', 'sex', 'smoking', 'time']].values\n",
        "X[0:5]"
      ],
      "execution_count": 343,
      "outputs": [
        {
          "output_type": "execute_result",
          "data": {
            "text/plain": [
              "array([[7.5000000e+01, 0.0000000e+00, 5.8200000e+02, 0.0000000e+00,\n",
              "        2.0000000e+01, 1.0000000e+00, 2.6500000e+05, 1.9000000e+00,\n",
              "        1.3000000e+02, 1.0000000e+00, 0.0000000e+00, 4.0000000e+00],\n",
              "       [5.5000000e+01, 0.0000000e+00, 7.8610000e+03, 0.0000000e+00,\n",
              "        3.8000000e+01, 0.0000000e+00, 2.6335803e+05, 1.1000000e+00,\n",
              "        1.3600000e+02, 1.0000000e+00, 0.0000000e+00, 6.0000000e+00],\n",
              "       [6.5000000e+01, 0.0000000e+00, 1.4600000e+02, 0.0000000e+00,\n",
              "        2.0000000e+01, 0.0000000e+00, 1.6200000e+05, 1.3000000e+00,\n",
              "        1.2900000e+02, 1.0000000e+00, 1.0000000e+00, 7.0000000e+00],\n",
              "       [5.0000000e+01, 1.0000000e+00, 1.1100000e+02, 0.0000000e+00,\n",
              "        2.0000000e+01, 0.0000000e+00, 2.1000000e+05, 1.9000000e+00,\n",
              "        1.3700000e+02, 1.0000000e+00, 0.0000000e+00, 7.0000000e+00],\n",
              "       [6.5000000e+01, 1.0000000e+00, 1.6000000e+02, 1.0000000e+00,\n",
              "        2.0000000e+01, 0.0000000e+00, 3.2700000e+05, 2.7000000e+00,\n",
              "        1.1600000e+02, 0.0000000e+00, 0.0000000e+00, 8.0000000e+00]])"
            ]
          },
          "metadata": {
            "tags": []
          },
          "execution_count": 343
        }
      ]
    },
    {
      "cell_type": "code",
      "metadata": {
        "id": "rBnu4p8g1cLR",
        "colab": {
          "base_uri": "https://localhost:8080/"
        },
        "outputId": "8ac80e8e-69c0-4d25-c654-e01ec0b28f50"
      },
      "source": [
        "y = df['DEATH_EVENT'].values\n",
        "y[0:5]"
      ],
      "execution_count": 344,
      "outputs": [
        {
          "output_type": "execute_result",
          "data": {
            "text/plain": [
              "array([1, 1, 1, 1, 1])"
            ]
          },
          "metadata": {
            "tags": []
          },
          "execution_count": 344
        }
      ]
    },
    {
      "cell_type": "markdown",
      "metadata": {
        "id": "WKR0zwWzX8Zp"
      },
      "source": [
        "**Splitting and scaling data for training and testing**"
      ]
    },
    {
      "cell_type": "code",
      "metadata": {
        "id": "za1_M6NH00yP"
      },
      "source": [
        "X_train, X_test, y_train, y_test = train_test_split(X, y, test_size=0.25, random_state=1)\n",
        "scaler = preprocessing.StandardScaler()\n",
        "X_train = scaler.fit_transform(X_train)\n",
        "X_test = scaler.transform(X_test)\n"
      ],
      "execution_count": 345,
      "outputs": []
    },
    {
      "cell_type": "markdown",
      "metadata": {
        "id": "5bfLDzpzZikE"
      },
      "source": [
        "**Distance functions**"
      ]
    },
    {
      "cell_type": "code",
      "metadata": {
        "id": "YIToomJZ5qqe"
      },
      "source": [
        "# Distances\n",
        "def euclidian(p1, p2): \n",
        "    dist = 0\n",
        "    for i in range(len(p1)):\n",
        "        dist = dist + np.square(p1[i]-p2[i])\n",
        "    dist = np.sqrt(dist)\n",
        "    return dist;\n",
        "\n",
        "def manhattan(p1, p2): \n",
        "    dist = 0\n",
        "    for i in range(len(p1)):\n",
        "        dist = dist + abs(p1[i]-p2[i])\n",
        "    return dist;\n",
        "\n",
        "def minkowski(p1, p2, q): \n",
        "    dist = 0\n",
        "    for i in range(len(p1)):\n",
        "        dist = dist + abs(p1[i]-p2[i])**q\n",
        "    dist = np.sqrt(dist)**(1/q)\n",
        "    return dist;"
      ],
      "execution_count": 346,
      "outputs": []
    },
    {
      "cell_type": "markdown",
      "metadata": {
        "id": "enx40fbjZzxy"
      },
      "source": [
        "**Knn algorithm**"
      ]
    },
    {
      "cell_type": "code",
      "metadata": {
        "id": "6ytwCVKiLtOi"
      },
      "source": [
        "# kNN Function\n",
        "def knn_predict(X_train,y_train, X_test, k, dist='euclidian',q=2):\n",
        "    pred = []\n",
        "    # Adjusting the data type\n",
        "    if isinstance(X_test, np.ndarray):\n",
        "        X_test=pd.DataFrame(X_test)\n",
        "    if isinstance(X_train, np.ndarray):\n",
        "        X_train=pd.DataFrame(X_train)\n",
        "        \n",
        "    for i in range(len(X_test)):    \n",
        "        # Calculating distances for our test point\n",
        "        newdist = np.zeros(len(y_train))\n",
        "\n",
        "        if dist=='euclidian':\n",
        "            for j in range(len(y_train)):\n",
        "                newdist[j] = euclidian(X_train.iloc[j,:], X_test.iloc[i,:])\n",
        "    \n",
        "        if dist=='manhattan':\n",
        "            for j in range(len(y_train)):\n",
        "                newdist[j] = manhattan(X_train.iloc[j,:], X_test.iloc[i,:])\n",
        "    \n",
        "        if dist=='minkowski':\n",
        "            for j in range(len(y_train)):\n",
        "                newdist[j] = minkowski(X_train.iloc[j,:], X_test.iloc[i,:],q)\n",
        "\n",
        "        # Merging actual labels with calculated distances\n",
        "        newdist = np.array([newdist, y_train])\n",
        "\n",
        "        ## Finding the closest k neighbors\n",
        "        # Sorting index\n",
        "        idx = np.argsort(newdist[0,:])\n",
        "\n",
        "        # Sorting the all newdist\n",
        "        newdist = newdist[:,idx]\n",
        "        #print(newdist)\n",
        "\n",
        "        # We should count neighbor labels and take the label which has max count\n",
        "        # Define a dictionary for the counts\n",
        "        c = {'0':0,'1':0,'2':0 }\n",
        "        # Update counts in the dictionary \n",
        "        for j in range(k):\n",
        "            c[str(int(newdist[1,j]))] = c[str(int(newdist[1,j]))] + 1\n",
        "\n",
        "        key_max = max(c.keys(), key=(lambda k: c[k]))\n",
        "        pred.append(int(key_max))\n",
        "        \n",
        "    return pred\n"
      ],
      "execution_count": 347,
      "outputs": []
    },
    {
      "cell_type": "markdown",
      "metadata": {
        "id": "Aa_nFNsyZ7j3"
      },
      "source": [
        "**Finding best k value for Knn**"
      ]
    },
    {
      "cell_type": "code",
      "metadata": {
        "id": "oVVKQtoeNynq",
        "colab": {
          "base_uri": "https://localhost:8080/"
        },
        "outputId": "4357696b-03b4-40eb-e3f8-2b9ec6be4300"
      },
      "source": [
        "knn_model_bestk_time=[]\n",
        "myknn_model_bestk_time=[]\n",
        "def find_Ks2(X_train, X_test, y_train, y_test, Ks):\n",
        "    mean_acc2 = np.zeros((Ks-1))\n",
        "    std_acc = np.zeros((Ks-1))\n",
        "    for n in range(1,Ks):\n",
        "        \n",
        "        start = int(round(time.time() * 1000))\n",
        "        #Train Model and Predict  \n",
        "        neigh = KNeighborsClassifier(n_neighbors = n).fit(X_train,y_train)\n",
        "        yhat=neigh.predict(X_test)\n",
        "        mean_acc[n-1] = accuracy_score(y_test, yhat)\n",
        "        std_acc[n-1]=np.std(yhat==y_test)/np.sqrt(yhat.shape[0])\n",
        "        time_knn_scikit = int(round(time.time() * 1000)) - start\n",
        "        knn_model_bestk_time.append(time_knn_scikit)\n",
        "\n",
        "        start = int(round(time.time() * 1000))\n",
        "        #Train Model and Predict  \n",
        "        yhat = knn_predict(X_train, y_train, X_test, k=n)\n",
        "        mean_acc2[n-1] = accuracy_score(y_test, yhat)\n",
        "        std_acc2 = np.std(mean_acc2)\n",
        "        time_knn_myown = int(round(time.time() * 1000)) - start\n",
        "        myknn_model_bestk_time.append(time_knn_myown)\n",
        "\n",
        "    return(mean_acc2, std_acc2,mean_acc, std_acc)\n",
        "Ks = 20\n",
        "\n",
        "mean_acc2, std_acc2,mean_acc, std_acc = find_Ks2(X_train, X_test, y_train, y_test, Ks)\n",
        "\n",
        "\n",
        "print( \"The best accuracy for scikit learn knn was with\", mean_acc.max(), \"with k=\", mean_acc.argmax()+1) \n",
        "print( \"The best accuracy for my own knn was with\", mean_acc2.max(), \"with k=\", mean_acc2.argmax()+1) "
      ],
      "execution_count": 348,
      "outputs": [
        {
          "output_type": "stream",
          "text": [
            "The best accuracy for scikit learn knn was with 0.8 with k= 11\n",
            "The best accuracy for my own knn was with 0.8 with k= 11\n"
          ],
          "name": "stdout"
        }
      ]
    },
    {
      "cell_type": "code",
      "metadata": {
        "colab": {
          "base_uri": "https://localhost:8080/",
          "height": 343
        },
        "id": "HMbQ4n4-gBSm",
        "outputId": "b53dd52b-6a53-4178-89b0-20851291e332"
      },
      "source": [
        "best_k_knn = mean_acc.argmax()+1\n",
        "best_k_myknn = mean_acc2.argmax()+1\n",
        "kfold = KFold(n_splits=10)\n",
        "kfold.split(X_train)\n",
        "knn_model_time=[]\n",
        "knn_accuracy_model = []\n",
        "myknn_model_time=[]\n",
        "myknn_accuracy_model=[]\n",
        "\n",
        "for train_index, test_index in kfold.split(X):\n",
        "    # Split train-test\n",
        "    X_train, X_test = df.iloc[train_index], df.iloc[test_index]\n",
        "    y_train, y_test = y[train_index], y[test_index]\n",
        "\n",
        "    start = int(round(time.time() * 1000))\n",
        "    neigh = KNeighborsClassifier(n_neighbors = best_k_knn)\n",
        "    knn_model = neigh.fit(X_train,y_train)\n",
        "    knn_accuracy_model.append(accuracy_score(y_test,neigh.predict(X_test),normalize=True)*100)\n",
        "    time_knn = int(round(time.time() * 1000)) - start\n",
        "    knn_model_time.append(time_knn)\n",
        "\n",
        "    start = int(round(time.time() * 1000))\n",
        "    yhat = knn_predict(X_train, y_train, X_test, k=best_k_myknn)\n",
        "    myknn_accuracy_model.append(accuracy_score(y_test, yhat)*100)\n",
        "    time_myknn = int(round(time.time() * 1000)) - start\n",
        "    myknn_model_time.append(time_myknn)\n",
        "\n",
        "    diff = [(i / j)*100 for i, j in zip(myknn_model_time,knn_model_time)] \n",
        "results_df = pd.DataFrame()\n",
        "results_df['knn_accuracy_model'] = knn_accuracy_model\n",
        "results_df['knn_model_time'] = knn_model_time\n",
        "results_df['myknn_accuracy_model'] = myknn_accuracy_model\n",
        "results_df['myknn_model_time'] = myknn_model_time\n",
        "results_df['%diff'] = diff\n",
        "results_df"
      ],
      "execution_count": 349,
      "outputs": [
        {
          "output_type": "execute_result",
          "data": {
            "text/html": [
              "<div>\n",
              "<style scoped>\n",
              "    .dataframe tbody tr th:only-of-type {\n",
              "        vertical-align: middle;\n",
              "    }\n",
              "\n",
              "    .dataframe tbody tr th {\n",
              "        vertical-align: top;\n",
              "    }\n",
              "\n",
              "    .dataframe thead th {\n",
              "        text-align: right;\n",
              "    }\n",
              "</style>\n",
              "<table border=\"1\" class=\"dataframe\">\n",
              "  <thead>\n",
              "    <tr style=\"text-align: right;\">\n",
              "      <th></th>\n",
              "      <th>knn_accuracy_model</th>\n",
              "      <th>knn_model_time</th>\n",
              "      <th>myknn_accuracy_model</th>\n",
              "      <th>myknn_model_time</th>\n",
              "      <th>%diff</th>\n",
              "    </tr>\n",
              "  </thead>\n",
              "  <tbody>\n",
              "    <tr>\n",
              "      <th>0</th>\n",
              "      <td>10.000000</td>\n",
              "      <td>7</td>\n",
              "      <td>10.000000</td>\n",
              "      <td>3546</td>\n",
              "      <td>50657.142857</td>\n",
              "    </tr>\n",
              "    <tr>\n",
              "      <th>1</th>\n",
              "      <td>16.666667</td>\n",
              "      <td>4</td>\n",
              "      <td>16.666667</td>\n",
              "      <td>3451</td>\n",
              "      <td>86275.000000</td>\n",
              "    </tr>\n",
              "    <tr>\n",
              "      <th>2</th>\n",
              "      <td>53.333333</td>\n",
              "      <td>4</td>\n",
              "      <td>53.333333</td>\n",
              "      <td>3528</td>\n",
              "      <td>88200.000000</td>\n",
              "    </tr>\n",
              "    <tr>\n",
              "      <th>3</th>\n",
              "      <td>76.666667</td>\n",
              "      <td>4</td>\n",
              "      <td>76.666667</td>\n",
              "      <td>3524</td>\n",
              "      <td>88100.000000</td>\n",
              "    </tr>\n",
              "    <tr>\n",
              "      <th>4</th>\n",
              "      <td>76.666667</td>\n",
              "      <td>4</td>\n",
              "      <td>76.666667</td>\n",
              "      <td>3486</td>\n",
              "      <td>87150.000000</td>\n",
              "    </tr>\n",
              "    <tr>\n",
              "      <th>5</th>\n",
              "      <td>90.000000</td>\n",
              "      <td>4</td>\n",
              "      <td>90.000000</td>\n",
              "      <td>3516</td>\n",
              "      <td>87900.000000</td>\n",
              "    </tr>\n",
              "    <tr>\n",
              "      <th>6</th>\n",
              "      <td>60.000000</td>\n",
              "      <td>4</td>\n",
              "      <td>60.000000</td>\n",
              "      <td>3545</td>\n",
              "      <td>88625.000000</td>\n",
              "    </tr>\n",
              "    <tr>\n",
              "      <th>7</th>\n",
              "      <td>80.000000</td>\n",
              "      <td>4</td>\n",
              "      <td>80.000000</td>\n",
              "      <td>3511</td>\n",
              "      <td>87775.000000</td>\n",
              "    </tr>\n",
              "    <tr>\n",
              "      <th>8</th>\n",
              "      <td>86.666667</td>\n",
              "      <td>4</td>\n",
              "      <td>86.666667</td>\n",
              "      <td>3527</td>\n",
              "      <td>88175.000000</td>\n",
              "    </tr>\n",
              "    <tr>\n",
              "      <th>9</th>\n",
              "      <td>86.206897</td>\n",
              "      <td>4</td>\n",
              "      <td>86.206897</td>\n",
              "      <td>3416</td>\n",
              "      <td>85400.000000</td>\n",
              "    </tr>\n",
              "  </tbody>\n",
              "</table>\n",
              "</div>"
            ],
            "text/plain": [
              "   knn_accuracy_model  knn_model_time  ...  myknn_model_time         %diff\n",
              "0           10.000000               7  ...              3546  50657.142857\n",
              "1           16.666667               4  ...              3451  86275.000000\n",
              "2           53.333333               4  ...              3528  88200.000000\n",
              "3           76.666667               4  ...              3524  88100.000000\n",
              "4           76.666667               4  ...              3486  87150.000000\n",
              "5           90.000000               4  ...              3516  87900.000000\n",
              "6           60.000000               4  ...              3545  88625.000000\n",
              "7           80.000000               4  ...              3511  87775.000000\n",
              "8           86.666667               4  ...              3527  88175.000000\n",
              "9           86.206897               4  ...              3416  85400.000000\n",
              "\n",
              "[10 rows x 5 columns]"
            ]
          },
          "metadata": {
            "tags": []
          },
          "execution_count": 349
        }
      ]
    },
    {
      "cell_type": "code",
      "metadata": {
        "id": "Qku1qjRlO8nQ"
      },
      "source": [
        ""
      ],
      "execution_count": 349,
      "outputs": []
    },
    {
      "cell_type": "code",
      "metadata": {
        "id": "U7hYYNBWUkn2"
      },
      "source": [
        ""
      ],
      "execution_count": 349,
      "outputs": []
    }
  ]
}