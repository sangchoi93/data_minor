{
  "nbformat": 4,
  "nbformat_minor": 0,
  "metadata": {
    "colab": {
      "name": "knnProject.ipynb",
      "provenance": [],
      "authorship_tag": "ABX9TyPJ6X0CQXopNk2GyeYa2DgO",
      "include_colab_link": true
    },
    "kernelspec": {
      "name": "python3",
      "display_name": "Python 3"
    }
  },
  "cells": [
    {
      "cell_type": "markdown",
      "metadata": {
        "id": "view-in-github",
        "colab_type": "text"
      },
      "source": [
        "<a href=\"https://colab.research.google.com/github/jrCruz82/data_minor/blob/knn/knnProject.ipynb\" target=\"_parent\"><img src=\"https://colab.research.google.com/assets/colab-badge.svg\" alt=\"Open In Colab\"/></a>"
      ]
    },
    {
      "cell_type": "code",
      "metadata": {
        "id": "ZWxuOEfODs7i"
      },
      "source": [
        "import numpy as np\n",
        "import pandas as pd\n",
        "from sklearn.neighbors import KNeighborsClassifier \n",
        "from sklearn.metrics import accuracy_score\n",
        "from sklearn.model_selection import train_test_split\n",
        "from sklearn import preprocessing\n",
        "import matplotlib.pyplot as plt\n"
      ],
      "execution_count": 222,
      "outputs": []
    },
    {
      "cell_type": "markdown",
      "metadata": {
        "id": "MJw_F-6WYqbj"
      },
      "source": [
        "**Using sklearn to build K nearest neighbor classification**"
      ]
    },
    {
      "cell_type": "markdown",
      "metadata": {
        "id": "Wl8RWut4XcLO"
      },
      "source": [
        "**Reading dataset**"
      ]
    },
    {
      "cell_type": "code",
      "metadata": {
        "id": "YR8qKJ2ZxYUr",
        "outputId": "9223afe2-7f2c-498c-d87e-59c4b9f15b6c",
        "colab": {
          "base_uri": "https://localhost:8080/"
        }
      },
      "source": [
        "df=pd.read_csv('heart_failure_clinical_records_dataset.csv')\n",
        "df['DEATH_EVENT'].value_counts()"
      ],
      "execution_count": 223,
      "outputs": [
        {
          "output_type": "execute_result",
          "data": {
            "text/plain": [
              "0    203\n",
              "1     96\n",
              "Name: DEATH_EVENT, dtype: int64"
            ]
          },
          "metadata": {
            "tags": []
          },
          "execution_count": 223
        }
      ]
    },
    {
      "cell_type": "code",
      "metadata": {
        "id": "x0HH74B_xkYN",
        "outputId": "2e8e46fb-2ab6-4f2e-926d-e41b08ddf738",
        "colab": {
          "base_uri": "https://localhost:8080/"
        }
      },
      "source": [
        "df.columns"
      ],
      "execution_count": 224,
      "outputs": [
        {
          "output_type": "execute_result",
          "data": {
            "text/plain": [
              "Index(['age', 'anaemia', 'creatinine_phosphokinase', 'diabetes',\n",
              "       'ejection_fraction', 'high_blood_pressure', 'platelets',\n",
              "       'serum_creatinine', 'serum_sodium', 'sex', 'smoking', 'time',\n",
              "       'DEATH_EVENT'],\n",
              "      dtype='object')"
            ]
          },
          "metadata": {
            "tags": []
          },
          "execution_count": 224
        }
      ]
    },
    {
      "cell_type": "markdown",
      "metadata": {
        "id": "Im1p5FtFXl2v"
      },
      "source": [
        "**Selecting features and class**"
      ]
    },
    {
      "cell_type": "code",
      "metadata": {
        "id": "iq-eXp5mzAYb",
        "outputId": "0250e7c6-123e-4bc6-e4d5-374a364ca2f4",
        "colab": {
          "base_uri": "https://localhost:8080/"
        }
      },
      "source": [
        "X = df[['age', 'anaemia', 'creatinine_phosphokinase', 'diabetes',\n",
        "       'ejection_fraction', 'high_blood_pressure', 'platelets',\n",
        "       'serum_creatinine', 'serum_sodium', 'sex', 'smoking', 'time']].values\n",
        "X[0:5]"
      ],
      "execution_count": 225,
      "outputs": [
        {
          "output_type": "execute_result",
          "data": {
            "text/plain": [
              "array([[7.5000000e+01, 0.0000000e+00, 5.8200000e+02, 0.0000000e+00,\n",
              "        2.0000000e+01, 1.0000000e+00, 2.6500000e+05, 1.9000000e+00,\n",
              "        1.3000000e+02, 1.0000000e+00, 0.0000000e+00, 4.0000000e+00],\n",
              "       [5.5000000e+01, 0.0000000e+00, 7.8610000e+03, 0.0000000e+00,\n",
              "        3.8000000e+01, 0.0000000e+00, 2.6335803e+05, 1.1000000e+00,\n",
              "        1.3600000e+02, 1.0000000e+00, 0.0000000e+00, 6.0000000e+00],\n",
              "       [6.5000000e+01, 0.0000000e+00, 1.4600000e+02, 0.0000000e+00,\n",
              "        2.0000000e+01, 0.0000000e+00, 1.6200000e+05, 1.3000000e+00,\n",
              "        1.2900000e+02, 1.0000000e+00, 1.0000000e+00, 7.0000000e+00],\n",
              "       [5.0000000e+01, 1.0000000e+00, 1.1100000e+02, 0.0000000e+00,\n",
              "        2.0000000e+01, 0.0000000e+00, 2.1000000e+05, 1.9000000e+00,\n",
              "        1.3700000e+02, 1.0000000e+00, 0.0000000e+00, 7.0000000e+00],\n",
              "       [6.5000000e+01, 1.0000000e+00, 1.6000000e+02, 1.0000000e+00,\n",
              "        2.0000000e+01, 0.0000000e+00, 3.2700000e+05, 2.7000000e+00,\n",
              "        1.1600000e+02, 0.0000000e+00, 0.0000000e+00, 8.0000000e+00]])"
            ]
          },
          "metadata": {
            "tags": []
          },
          "execution_count": 225
        }
      ]
    },
    {
      "cell_type": "code",
      "metadata": {
        "id": "rBnu4p8g1cLR",
        "outputId": "ae428d81-480c-444b-a7f8-df09e11eee8e",
        "colab": {
          "base_uri": "https://localhost:8080/"
        }
      },
      "source": [
        "y = df['DEATH_EVENT'].values\n",
        "y[0:5]"
      ],
      "execution_count": 226,
      "outputs": [
        {
          "output_type": "execute_result",
          "data": {
            "text/plain": [
              "array([1, 1, 1, 1, 1])"
            ]
          },
          "metadata": {
            "tags": []
          },
          "execution_count": 226
        }
      ]
    },
    {
      "cell_type": "markdown",
      "metadata": {
        "id": "TKyF3I03X2wH"
      },
      "source": [
        "**Scaling data**"
      ]
    },
    {
      "cell_type": "code",
      "metadata": {
        "id": "L8tgDtTGz1dJ",
        "outputId": "9137dab2-6ce5-4a77-9e9b-e604c40cc3bb",
        "colab": {
          "base_uri": "https://localhost:8080/"
        }
      },
      "source": [
        "X = preprocessing.StandardScaler().fit(X).transform(X.astype(float))\n",
        "X[0:5]"
      ],
      "execution_count": 227,
      "outputs": [
        {
          "output_type": "execute_result",
          "data": {
            "text/plain": [
              "array([[ 1.19294523e+00, -8.71104775e-01,  1.65728387e-04,\n",
              "        -8.47579380e-01, -1.53055953e+00,  1.35927151e+00,\n",
              "         1.68164843e-02,  4.90056987e-01, -1.50403612e+00,\n",
              "         7.35688190e-01, -6.87681906e-01, -1.62950241e+00],\n",
              "       [-4.91279276e-01, -8.71104775e-01,  7.51463953e+00,\n",
              "        -8.47579380e-01, -7.07675018e-03, -7.35688190e-01,\n",
              "         7.53566018e-09, -2.84552352e-01, -1.41976151e-01,\n",
              "         7.35688190e-01, -6.87681906e-01, -1.60369074e+00],\n",
              "       [ 3.50832977e-01, -8.71104775e-01, -4.49938761e-01,\n",
              "        -8.47579380e-01, -1.53055953e+00, -7.35688190e-01,\n",
              "        -1.03807313e+00, -9.09000174e-02, -1.73104612e+00,\n",
              "         7.35688190e-01,  1.45416070e+00, -1.59078490e+00],\n",
              "       [-9.12335403e-01,  1.14796753e+00, -4.86071002e-01,\n",
              "        -8.47579380e-01, -1.53055953e+00, -7.35688190e-01,\n",
              "        -5.46474088e-01,  4.90056987e-01,  8.50338444e-02,\n",
              "         7.35688190e-01, -6.87681906e-01, -1.59078490e+00],\n",
              "       [ 3.50832977e-01,  1.14796753e+00, -4.35485864e-01,\n",
              "         1.17983050e+00, -1.53055953e+00, -7.35688190e-01,\n",
              "         6.51798584e-01,  1.26466633e+00, -4.68217606e+00,\n",
              "        -1.35927151e+00, -6.87681906e-01, -1.57787906e+00]])"
            ]
          },
          "metadata": {
            "tags": []
          },
          "execution_count": 227
        }
      ]
    },
    {
      "cell_type": "markdown",
      "metadata": {
        "id": "WKR0zwWzX8Zp"
      },
      "source": [
        "**Splitting data for training and testing**"
      ]
    },
    {
      "cell_type": "code",
      "metadata": {
        "id": "za1_M6NH00yP",
        "outputId": "d869c7ac-0b08-4b01-d971-92d61f6c38b4",
        "colab": {
          "base_uri": "https://localhost:8080/"
        }
      },
      "source": [
        "X_train, X_test, y_train, y_test = train_test_split(X, y, test_size=0.25, random_state=1)\n",
        "print('Train set:', X_train.shape, y_train.shape)\n",
        "print('Test set:', X_test.shape, y_test.shape)\n"
      ],
      "execution_count": 228,
      "outputs": [
        {
          "output_type": "stream",
          "text": [
            "Train set: (224, 12) (224,)\n",
            "Test set: (75, 12) (75,)\n"
          ],
          "name": "stdout"
        }
      ]
    },
    {
      "cell_type": "markdown",
      "metadata": {
        "id": "pU1UfmfcYJ10"
      },
      "source": [
        "**Looking for best k value for optimum results**"
      ]
    },
    {
      "cell_type": "code",
      "metadata": {
        "id": "aCK9nD7q3ev2",
        "outputId": "4a136957-addc-4a94-c948-d77d215b7c88",
        "colab": {
          "base_uri": "https://localhost:8080/"
        }
      },
      "source": [
        "Ks = 50\n",
        "mean_acc = np.zeros((Ks-1))\n",
        "std_acc = np.zeros((Ks-1))\n",
        "ConfustionMx = [];\n",
        "for n in range(1,Ks):\n",
        "    \n",
        "    #Train Model and Predict  \n",
        "    neigh = KNeighborsClassifier(n_neighbors = n).fit(X_train,y_train)\n",
        "    yhat=neigh.predict(X_test)\n",
        "    \n",
        "    mean_acc[n-1] = accuracy_score(y_test, yhat)\n",
        "\n",
        "    \n",
        "    std_acc[n-1]=np.std(yhat==y_test)/np.sqrt(yhat.shape[0])\n",
        "mean_acc"
      ],
      "execution_count": 249,
      "outputs": [
        {
          "output_type": "execute_result",
          "data": {
            "text/plain": [
              "array([0.68      , 0.74666667, 0.76      , 0.76      , 0.78666667,\n",
              "       0.78666667, 0.77333333, 0.78666667, 0.78666667, 0.78666667,\n",
              "       0.8       , 0.78666667, 0.78666667, 0.77333333, 0.78666667,\n",
              "       0.8       , 0.8       , 0.78666667, 0.8       , 0.78666667,\n",
              "       0.78666667, 0.76      , 0.78666667, 0.78666667, 0.8       ,\n",
              "       0.78666667, 0.8       , 0.8       , 0.78666667, 0.8       ,\n",
              "       0.78666667, 0.8       , 0.8       , 0.77333333, 0.77333333,\n",
              "       0.77333333, 0.77333333, 0.76      , 0.77333333, 0.76      ,\n",
              "       0.74666667, 0.76      , 0.74666667, 0.74666667, 0.74666667,\n",
              "       0.74666667, 0.74666667, 0.74666667, 0.74666667])"
            ]
          },
          "metadata": {
            "tags": []
          },
          "execution_count": 249
        }
      ]
    },
    {
      "cell_type": "markdown",
      "metadata": {
        "id": "spJb6WSJYV4G"
      },
      "source": [
        "**Plotting accuracy curve with different k values**"
      ]
    },
    {
      "cell_type": "code",
      "metadata": {
        "id": "HjSYnEUl32os",
        "outputId": "159b4997-8b37-425f-b6af-ba523eaf329c",
        "colab": {
          "base_uri": "https://localhost:8080/",
          "height": 297
        }
      },
      "source": [
        "plt.plot(range(1,Ks),mean_acc,'g')\n",
        "plt.fill_between(range(1,Ks),mean_acc - 1 * std_acc,mean_acc + 1 * std_acc, alpha=0.10)\n",
        "plt.legend(('Accuracy ', '+/- 3xstd'))\n",
        "plt.ylabel('Accuracy ')\n",
        "plt.xlabel('Number of Nabors (K)')\n",
        "plt.tight_layout()\n",
        "plt.show()"
      ],
      "execution_count": 232,
      "outputs": [
        {
          "output_type": "display_data",
          "data": {
            "image/png": "[encoded data removed]",
            "text/plain": [
              "<Figure size 432x288 with 1 Axes>"
            ]
          },
          "metadata": {
            "tags": [],
            "needs_background": "light"
          }
        }
      ]
    },
    {
      "cell_type": "markdown",
      "metadata": {
        "id": "Q6iVdRgGYj_q"
      },
      "source": [
        "**Best k value**"
      ]
    },
    {
      "cell_type": "code",
      "metadata": {
        "id": "qJYcoDri4BZv",
        "outputId": "640802b8-0960-4807-892f-e2f1bcf1f6f6",
        "colab": {
          "base_uri": "https://localhost:8080/"
        }
      },
      "source": [
        "print( \"The best accuracy was with\", mean_acc.max(), \"with k=\", mean_acc.argmax()+1) "
      ],
      "execution_count": 233,
      "outputs": [
        {
          "output_type": "stream",
          "text": [
            "The best accuracy was with 0.8 with k= 17\n"
          ],
          "name": "stdout"
        }
      ]
    },
    {
      "cell_type": "markdown",
      "metadata": {
        "id": "_SJckZ6DY7tM"
      },
      "source": [
        "**Using own calcuations to train K nearest neighbor classification model**"
      ]
    },
    {
      "cell_type": "code",
      "metadata": {
        "id": "G2NkioL84Oi8"
      },
      "source": [
        "X = df.drop('DEATH_EVENT', axis=1)\n",
        "y = df.DEATH_EVENT"
      ],
      "execution_count": 234,
      "outputs": []
    },
    {
      "cell_type": "markdown",
      "metadata": {
        "id": "5bfLDzpzZikE"
      },
      "source": [
        "**Minkowski algorithm with Euclidean distance**"
      ]
    },
    {
      "cell_type": "code",
      "metadata": {
        "id": "YIToomJZ5qqe"
      },
      "source": [
        "def minkowski_distance(a, b, p):\n",
        "    \n",
        "    # Store the number of dimensions\n",
        "    dim = len(a)\n",
        "    \n",
        "    # Set initial distance to 0\n",
        "    distance = 0\n",
        "    \n",
        "    # Calculate minkowski distance using parameter p\n",
        "    for d in range(dim):\n",
        "        distance += abs(a[d] - b[d])**p\n",
        "        \n",
        "    distance = distance**(1/p)\n",
        "    \n",
        "    return distance"
      ],
      "execution_count": 235,
      "outputs": []
    },
    {
      "cell_type": "markdown",
      "metadata": {
        "id": "JUu0L3sYZt7G"
      },
      "source": [
        "**Splitting training and testing data**"
      ]
    },
    {
      "cell_type": "code",
      "metadata": {
        "id": "eYWlInkHHpTT"
      },
      "source": [
        "X_train, X_test, y_train, y_test = train_test_split(X, y, test_size=0.25, random_state=1)\n",
        "scaler = preprocessing.StandardScaler()\n",
        "X_train = scaler.fit_transform(X_train)\n",
        "X_test = scaler.transform(X_test)"
      ],
      "execution_count": 236,
      "outputs": []
    },
    {
      "cell_type": "markdown",
      "metadata": {
        "id": "enx40fbjZzxy"
      },
      "source": [
        "**Knn algorithm**"
      ]
    },
    {
      "cell_type": "code",
      "metadata": {
        "id": "6ytwCVKiLtOi",
        "outputId": "632e6cfc-a74f-441b-85e9-b9456e21e92a",
        "colab": {
          "base_uri": "https://localhost:8080/"
        }
      },
      "source": [
        "def knn_predict(X_train, X_test, y_train, y_test, k, p):\n",
        "    # Counter to help with label voting\n",
        "    from collections import Counter\n",
        "    \n",
        "    # Make predictions on the test data\n",
        "    # Need output of 1 prediction per test data point\n",
        "    y_hat_test = []\n",
        "\n",
        "    for test_point in X_test:\n",
        "        distances = []\n",
        "\n",
        "        for train_point in X_train:\n",
        "            distance = minkowski_distance(test_point, train_point, p=p)\n",
        "            distances.append(distance)\n",
        "        \n",
        "        # Store distances in a dataframe\n",
        "        df_dists = pd.DataFrame(data=distances, columns=['dist'], index=y_train.index)\n",
        "        \n",
        "        # Sort distances, and only consider the k closest points\n",
        "        df_nn = df_dists.sort_values(by=['dist'], axis=0)[:k]\n",
        "\n",
        "        # Create counter object to track the labels of k closest neighbors\n",
        "        counter = Counter(y_train[df_nn.index])\n",
        "\n",
        "        # Get most common label of all the nearest neighbors\n",
        "        prediction = counter.most_common()[0][0]\n",
        "        \n",
        "        # Append prediction to output list\n",
        "        y_hat_test.append(prediction)\n",
        "        \n",
        "    return y_hat_test\n",
        "\n",
        "\n",
        "y_hat_test = knn_predict(X_train, X_test, y_train, y_test, k=14, p=2)\n",
        "print(y_hat_test)"
      ],
      "execution_count": 240,
      "outputs": [
        {
          "output_type": "stream",
          "text": [
            "[0, 0, 0, 0, 0, 0, 0, 0, 1, 0, 0, 0, 0, 0, 0, 0, 0, 0, 0, 0, 0, 1, 0, 0, 0, 0, 0, 0, 0, 0, 0, 0, 0, 0, 1, 0, 0, 0, 0, 0, 1, 0, 0, 0, 0, 1, 0, 0, 0, 0, 0, 0, 0, 1, 0, 0, 0, 0, 0, 0, 0, 0, 0, 0, 0, 0, 0, 0, 0, 1, 0, 0, 1, 0, 0]\n"
          ],
          "name": "stdout"
        }
      ]
    },
    {
      "cell_type": "code",
      "metadata": {
        "id": "9e5STFZXMEla",
        "outputId": "36b666a2-eaaa-45ef-b389-b267b313709e",
        "colab": {
          "base_uri": "https://localhost:8080/"
        }
      },
      "source": [
        "print(accuracy_score(y_test, y_hat_test))"
      ],
      "execution_count": 241,
      "outputs": [
        {
          "output_type": "stream",
          "text": [
            "0.8133333333333334\n"
          ],
          "name": "stdout"
        }
      ]
    },
    {
      "cell_type": "markdown",
      "metadata": {
        "id": "Aa_nFNsyZ7j3"
      },
      "source": [
        "**Finding best k value for Knn**"
      ]
    },
    {
      "cell_type": "code",
      "metadata": {
        "id": "oVVKQtoeNynq",
        "outputId": "d21bf013-1428-4847-998b-9d975e9bde25",
        "colab": {
          "base_uri": "https://localhost:8080/"
        }
      },
      "source": [
        "def find_Ks2(X_train, X_test, y_train, y_test, Ks, ps):\n",
        "    mean_acc2 = np.zeros((Ks-1))\n",
        "    std_acc = np.zeros((Ks-1))\n",
        "    ConfustionMx = [];\n",
        "    for n in range(1,Ks):\n",
        "        \n",
        "        #Train Model and Predict  \n",
        "        yhat = knn_predict(X_train, X_test, y_train, y_test, k=n, p=2)\n",
        "        mean_acc2[n-1] = accuracy_score(y_test, yhat)\n",
        "        std_acc2 = np.std(mean_acc2)\n",
        "    return(mean_acc2, std_acc2)\n",
        "Ks = 50\n",
        "ps = 2\n",
        "mean_acc2, std_acc2 = find_Ks2(X_train, X_test, y_train, y_test, Ks, ps)\n",
        "print(mean_acc2)\n",
        "print( \"The best accuracy was with\", mean_acc2.max(), \"with k=\", mean_acc2.argmax()+1) "
      ],
      "execution_count": 252,
      "outputs": [
        {
          "output_type": "stream",
          "text": [
            "[0.68       0.68       0.76       0.74666667 0.78666667 0.77333333\n",
            " 0.77333333 0.78666667 0.78666667 0.8        0.8        0.8\n",
            " 0.78666667 0.81333333 0.78666667 0.8        0.8        0.8\n",
            " 0.8        0.8        0.78666667 0.77333333 0.78666667 0.77333333\n",
            " 0.8        0.77333333 0.8        0.78666667 0.78666667 0.78666667\n",
            " 0.78666667 0.78666667 0.8        0.78666667 0.77333333 0.76\n",
            " 0.77333333 0.74666667 0.77333333 0.74666667 0.74666667 0.74666667\n",
            " 0.74666667 0.76       0.74666667 0.74666667 0.74666667 0.74666667\n",
            " 0.74666667]\n",
            "The best accuracy was with 0.8133333333333334 with k= 14\n"
          ],
          "name": "stdout"
        }
      ]
    },
    {
      "cell_type": "markdown",
      "metadata": {
        "id": "rBubmy4waEDq"
      },
      "source": [
        "**Plotting the accuracy with different k values**"
      ]
    },
    {
      "cell_type": "code",
      "metadata": {
        "id": "Qku1qjRlO8nQ",
        "outputId": "39a0fda8-6dd4-44c0-8aa8-93516d89d8d0",
        "colab": {
          "base_uri": "https://localhost:8080/",
          "height": 297
        }
      },
      "source": [
        "plt.plot(range(1,Ks),mean_acc2,'g')\n",
        "plt.fill_between(range(1,Ks),mean_acc2 - 1 * std_acc2,mean_acc2 + 1 * std_acc2, alpha=0.10)\n",
        "plt.legend(('Accuracy ', '+/- 3xstd'))\n",
        "plt.ylabel('Accuracy ')\n",
        "plt.xlabel('Number of Nabors (K)')\n",
        "plt.tight_layout()\n",
        "plt.show()"
      ],
      "execution_count": 253,
      "outputs": [
        {
          "output_type": "display_data",
          "data": {
            "image/png": "[encoded data removed]",
            "text/plain": [
              "<Figure size 432x288 with 1 Axes>"
            ]
          },
          "metadata": {
            "tags": [],
            "needs_background": "light"
          }
        }
      ]
    },
    {
      "cell_type": "code",
      "metadata": {
        "id": "U7hYYNBWUkn2"
      },
      "source": [
        ""
      ],
      "execution_count": null,
      "outputs": []
    }
  ]
}